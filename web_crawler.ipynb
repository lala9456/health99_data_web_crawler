{
 "cells": [
  {
   "cell_type": "code",
   "execution_count": 1,
   "metadata": {},
   "outputs": [],
   "source": [
    "import pandas as pd\n",
    "import selenium\n",
    "from webdriver_manager.chrome import ChromeDriverManager\n",
    "from selenium import webdriver\n",
    "from selenium.webdriver.common.keys import Keys\n",
    "from selenium.webdriver.common.action_chains import ActionChains\n",
    "from selenium.webdriver.support.ui import WebDriverWait\n",
    "from selenium.webdriver.common.by import By\n",
    "from selenium.webdriver.support import expected_conditions as EC\n",
    "from selenium.webdriver.common.action_chains import ActionChains\n",
    "#from urllib.request import urlopen\n",
    "#import urllib\n",
    "from selenium.webdriver.support.ui import Select\n",
    "import winsound\n",
    "from PIL import Image\n",
    "import time"
   ]
  },
  {
   "cell_type": "code",
   "execution_count": 2,
   "metadata": {},
   "outputs": [],
   "source": [
    "keyword = \"骨質疏鬆\"\n",
    "agency = \"國民健康署\"\n",
    "startDate = \"2000-01-01\"\n",
    "endDate = \"2024-08-09\"\n",
    "page = 1"
   ]
  },
  {
   "cell_type": "code",
   "execution_count": 3,
   "metadata": {},
   "outputs": [],
   "source": [
    "driver = webdriver.Chrome(ChromeDriverManager().install())  #使用webdriver開啟chrome\n",
    "url = f\"https://health99.hpa.gov.tw/search?keyword={keyword}&startDate={startDate}&endDate={endDate}&tab=1&materialType=&releaseType=&releaseAgency={agency}&ask=&sort=&page={page}\"\n",
    "driver.get(url) "
   ]
  },
  {
   "cell_type": "code",
   "execution_count": 4,
   "metadata": {},
   "outputs": [],
   "source": [
    "def get_data_page(page):\n",
    "    url = f\"https://health99.hpa.gov.tw/search?keyword={keyword}&startDate=2000-01-01&endDate=2024-06-27&tab=1&materialType=&releaseType=&releaseAgency={agency}&ask=&sort=&page={page}\"\n",
    "    driver.get(url) \n",
    "    time.sleep(5)\n",
    "    data_eles = driver.find_elements(By.CLASS_NAME,\"col-md-2.col-sm-3.col-xs-4.px-8.mb-4.show_photo\")\n",
    "    data =[]\n",
    "    for element in data_eles:\n",
    "        text = element.text\n",
    "        tag = text.split(\"\\n\")[0]\n",
    "        title = text.split(\"\\n\")[1]\n",
    "        page_url = element.get_attribute(\"href\")\n",
    "        img_ele = element.find_element(By.TAG_NAME, 'img')\n",
    "        image_url = img_ele.get_attribute('src')\n",
    "        # print(tag)\n",
    "        print(title)\n",
    "        # print(page_url)\n",
    "        # print(image_url)\n",
    "        data.append({\n",
    "            \"tag\":tag,\n",
    "            \"title\":title,\n",
    "            \"page_url\":page_url,\n",
    "            \"image_url\":image_url\n",
    "        })\n",
    "    return(pd.DataFrame(data))"
   ]
  },
  {
   "cell_type": "code",
   "execution_count": 18,
   "metadata": {},
   "outputs": [
    {
     "name": "stdout",
     "output_type": "stream",
     "text": [
      "【教案】買進漲停「骨」，補「鈣」第一步\n",
      "第3堂：擔心骨鬆找上你，教你一起堅固骨骼\n",
      "醫病共享決策-預防骨質疏鬆，您想藥什麼?\n",
      "活躍肌肉-預防肌少症(國語)\n",
      "骨質疏鬆是老人病？30歲後你也可能是高危險群！\n",
      "如何預防骨質疏鬆\n",
      "預防骨質疏鬆海報\n",
      "預防骨質疏鬆\n",
      "骨質疏鬆症臨床治療指引手冊\n",
      "認識骨質密度檢測\n",
      "Taiwan Osteoporosis Practice Guidelines 骨質疏鬆症臨床治療指引(英文版)\n"
     ]
    }
   ],
   "source": [
    "df_list = []\n",
    "page = 1\n",
    "while True:\n",
    "    try:\n",
    "        page_df = get_data_page(page)\n",
    "        if len(page_df)==0:\n",
    "            break\n",
    "        df_list.append(page_df)\n",
    "        page = page + 1\n",
    "    except:\n",
    "        break"
   ]
  },
  {
   "cell_type": "code",
   "execution_count": 19,
   "metadata": {},
   "outputs": [],
   "source": [
    "df = pd.concat(df_list,axis=0)\n",
    "df.reset_index(drop=True,inplace=True)\n",
    "for i in range(len(df)):\n",
    "    page_url = df.loc[i,\"page_url\"]\n",
    "    driver.get(page_url)\n",
    "    li_element_date = WebDriverWait(driver, 3).until(\n",
    "                    EC.presence_of_element_located((By.XPATH, \"//li[contains(text(), '發佈日期')]\"))\n",
    "                )\n",
    "    date = li_element_date.text.split(\"：\")[1]\n",
    "    li_element_author = WebDriverWait(driver, 3).until(\n",
    "                    EC.presence_of_element_located((By.XPATH, \"//li[contains(text(), '作者')]\"))\n",
    "                )\n",
    "    author = li_element_author.text.split(\"：\")[1]\n",
    "    df.loc[i,\"date\"] = date\n",
    "    df.loc[i,\"author\"] = author"
   ]
  },
  {
   "cell_type": "code",
   "execution_count": 20,
   "metadata": {},
   "outputs": [],
   "source": [
    "df.to_csv(f\"全部{keyword}教材列表整理.csv\",encoding=\"utf-8-sig\",index=False)\n",
    "df.loc[df[\"author\"]==\"慢性疾病防治組\",].sort_values(by=[\"date\"]).to_csv(f\"本組{keyword}教材列表整理.csv\",encoding=\"utf-8-sig\",index=False)"
   ]
  },
  {
   "cell_type": "code",
   "execution_count": null,
   "metadata": {},
   "outputs": [],
   "source": []
  },
  {
   "cell_type": "code",
   "execution_count": null,
   "metadata": {},
   "outputs": [],
   "source": []
  },
  {
   "cell_type": "code",
   "execution_count": null,
   "metadata": {},
   "outputs": [],
   "source": []
  }
 ],
 "metadata": {
  "kernelspec": {
   "display_name": "base",
   "language": "python",
   "name": "python3"
  },
  "language_info": {
   "codemirror_mode": {
    "name": "ipython",
    "version": 3
   },
   "file_extension": ".py",
   "mimetype": "text/x-python",
   "name": "python",
   "nbconvert_exporter": "python",
   "pygments_lexer": "ipython3",
   "version": "3.11.7"
  }
 },
 "nbformat": 4,
 "nbformat_minor": 2
}
